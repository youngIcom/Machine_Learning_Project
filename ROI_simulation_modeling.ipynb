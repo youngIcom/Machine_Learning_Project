{
  "nbformat": 4,
  "nbformat_minor": 0,
  "metadata": {
    "colab": {
      "provenance": [],
      "authorship_tag": "ABX9TyMhSraRkDWvgo0duB5h7cQk",
      "include_colab_link": true
    },
    "kernelspec": {
      "name": "python3",
      "display_name": "Python 3"
    },
    "language_info": {
      "name": "python"
    }
  },
  "cells": [
    {
      "cell_type": "markdown",
      "metadata": {
        "id": "view-in-github",
        "colab_type": "text"
      },
      "source": [
        "<a href=\"https://colab.research.google.com/github/youngIcom/Machine_Learning_Project/blob/main/ROI_simulation_modeling.ipynb\" target=\"_parent\"><img src=\"https://colab.research.google.com/assets/colab-badge.svg\" alt=\"Open In Colab\"/></a>"
      ]
    },
    {
      "cell_type": "markdown",
      "source": [
        "# ROI Simulation Modeling"
      ],
      "metadata": {
        "id": "raGD5uXJW-6c"
      }
    },
    {
      "cell_type": "markdown",
      "source": [
        "## Apa itu ROI\n",
        "Roi adalah singkatan dari Return of Investment, yaitu alat yang digunakan untuk mengukur seberapa besar keuntungan bersih yang dihasilkan dibanding dengan biaya yang dikeluarkan. Dalam e-commerce, ROI membantu dalam mengefesiensikan proses, strategi harga dan membantu mengambil keputusan saat terjadi SKU Spike.\n",
        "\n",
        "![roi_formula.png](data:image/png;base64,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)"
      ],
      "metadata": {
        "id": "TiOKiuTRXDHo"
      }
    },
    {
      "cell_type": "markdown",
      "source": [
        "Untuk mendapatkan nilai dari pendapatan bersih dapat digunakan rumus sebagai berikut : Unit Price×Units Sold-Unit Cost×Units Sold-Biaya lain refund, gudang,promosi\n",
        "\n",
        "biaya investasi dapat diartikan sebagai seluruh biaya yang dikeluarkan."
      ],
      "metadata": {
        "id": "EbDWufCdYG3d"
      }
    },
    {
      "cell_type": "code",
      "source": [
        "#Impor library pandas sebagai pd\n",
        "import pandas as pd\n",
        "\n",
        "#Gunakan pandas untuk membaca dataset roi.csv dan simpan dalam variabel df\n",
        "df = pd.read_csv('https://storage.googleapis.com/dqlab-dataset/komdigi/tbl_roi.csv')\n",
        "\n",
        "#Hitung revenue dengan mengalikan kolom unit_price dengan kolom units_sold dan simpan hasilnya dalam kolom revenue\n",
        "df['revenue'] = df['unit_price'] * df['units_sold'] #pendapatan yang masuk\n",
        "\n",
        "#Hitung modal dengan mengalikan kolom unit_cost dengan kolom units_sold dan simpan hasilnya dalam kolom cost\n",
        "df['cost'] = df['unit_cost']  * df['units_sold'] # modal yang keluar\n",
        "\n",
        "#Hitung margin percentage berdasarkan rumus yang sudah dijelaskan sebelumnya dan simpan dalam kolom margin_pct\n",
        "df['margin_pct'] = (df['revenue'] - df['cost']) / df['revenue'] * 100\n",
        "\n",
        "#Menentukan nilai kerugian akibat refund untuk masing-masing record SKU dan simpan dalam kolom refund_loss\n",
        "df['refund_loss'] = df['units_refunded'] * df['unit_price']\n",
        "\n",
        "#Menentukan pendapatan yang sudah dikurangi dengan refund_loss dan simpan dalam kolom adjusted_revenue\n",
        "df['adjusted_revenue'] = df['revenue'] - df['refund_loss']\n",
        "\n",
        "#Menandai understock: buat kolom understock_flag (TRUE jika spike_flag == 1 dan units_sold > stock_available)\n",
        "df['understock_flag'] = (df['spike_flag'] == 1) & (df['units_sold'] > df['stock_available'])\n",
        "\n",
        "#Menghitung lost_units dan lost_revenue saat understock\n",
        "df['lost_units'] = df.apply(lambda x: max(0, x['units_sold'] - x['stock_available']) if x['understock_flag'] else 0, axis=1)\n",
        "df['lost_revenue'] = df['lost_units'] * df['unit_price']\n",
        "\n",
        "#Menandai overstock: buat kolom overstock_flag (TRUE jika stock_available > units_sold)\n",
        "df['overstock_flag'] = df['stock_available'] > df['units_sold']\n",
        "\n",
        "# Menghitung excess_units dan holding_cost (holding_rate = 0.10)\n",
        "df['excess_units'] = df.apply(lambda x: max(0, x['stock_available'] - x['units_sold']) if x['overstock_flag'] else 0, axis=1)\n",
        "holding_rate = 0.10\n",
        "df['holding_cost'] = df['excess_units'] * df['unit_price'] * holding_rate * df['restock_lead_days']\n",
        "\n",
        "#Tampilkan tabel df terbaru\n",
        "print(df)\n",
        "\n",
        "#Buat tabel agregasi per SKU bernama sku_stock berisi total lost_units, lost_revenue, excess_units, dan holding_cost\n",
        "sku_stock = df.groupby('sku_id')[['lost_units','lost_revenue','excess_units','holding_cost']].sum().reset_index()\n",
        "\n",
        "#Urutkan sku_stock berdasarkan lost_revenue tertinggi. Simpan hasilnya dalam sku_stock_sorted.\n",
        "sku_stock_sorted = sku_stock.sort_values(by='lost_revenue', ascending=False)\n",
        "\n",
        "#Tampilkan 5 baris pertama sku_stock_sorted.\n",
        "print(sku_stock_sorted.head())\n"
      ],
      "metadata": {
        "colab": {
          "base_uri": "https://localhost:8080/"
        },
        "id": "37U5uwUsPbXL",
        "outputId": "12216d17-394e-45e3-8231-1cb91eb47f16"
      },
      "execution_count": 8,
      "outputs": [
        {
          "output_type": "stream",
          "name": "stdout",
          "text": [
            "     session_date        sku_id  spike_flag  unit_cost  unit_price  \\\n",
            "0      2025-01-01  DQProduk-001           0   149850.0    239850.0   \n",
            "1      2025-01-02  DQProduk-001           1   149850.0    239850.0   \n",
            "2      2025-01-03  DQProduk-001           0   149850.0    239850.0   \n",
            "3      2025-01-04  DQProduk-001           0   149850.0    239850.0   \n",
            "4      2025-01-05  DQProduk-001           0   149850.0    239850.0   \n",
            "...           ...           ...         ...        ...         ...   \n",
            "3145   2025-03-27  DQProduk-035           1    59850.0    119850.0   \n",
            "3146   2025-03-28  DQProduk-035           0    59850.0    119850.0   \n",
            "3147   2025-03-29  DQProduk-035           1    59850.0    119850.0   \n",
            "3148   2025-03-30  DQProduk-035           0    59850.0    119850.0   \n",
            "3149   2025-03-31  DQProduk-035           0    59850.0    119850.0   \n",
            "\n",
            "      units_sold  units_refunded  stock_available  restock_lead_days  \\\n",
            "0             12               0              109                  2   \n",
            "1             24               5              163                  1   \n",
            "2              9               0               67                  3   \n",
            "3              8               0              125                  3   \n",
            "4              7               1               76                  3   \n",
            "...          ...             ...              ...                ...   \n",
            "3145          12               0              138                  1   \n",
            "3146           6               1               60                  0   \n",
            "3147          14               2              144                  5   \n",
            "3148           3               0               60                  5   \n",
            "3149           5               1               56                  3   \n",
            "\n",
            "        revenue       cost  margin_pct  refund_loss  adjusted_revenue  \\\n",
            "0     2878200.0  1798200.0   37.523452          0.0         2878200.0   \n",
            "1     5756400.0  3596400.0   37.523452    1199250.0         4557150.0   \n",
            "2     2158650.0  1348650.0   37.523452          0.0         2158650.0   \n",
            "3     1918800.0  1198800.0   37.523452          0.0         1918800.0   \n",
            "4     1678950.0  1048950.0   37.523452     239850.0         1439100.0   \n",
            "...         ...        ...         ...          ...               ...   \n",
            "3145  1438200.0   718200.0   50.062578          0.0         1438200.0   \n",
            "3146   719100.0   359100.0   50.062578     119850.0          599250.0   \n",
            "3147  1677900.0   837900.0   50.062578     239700.0         1438200.0   \n",
            "3148   359550.0   179550.0   50.062578          0.0          359550.0   \n",
            "3149   599250.0   299250.0   50.062578     119850.0          479400.0   \n",
            "\n",
            "      understock_flag  lost_units  lost_revenue  overstock_flag  excess_units  \\\n",
            "0               False           0           0.0            True            97   \n",
            "1               False           0           0.0            True           139   \n",
            "2               False           0           0.0            True            58   \n",
            "3               False           0           0.0            True           117   \n",
            "4               False           0           0.0            True            69   \n",
            "...               ...         ...           ...             ...           ...   \n",
            "3145            False           0           0.0            True           126   \n",
            "3146            False           0           0.0            True            54   \n",
            "3147            False           0           0.0            True           130   \n",
            "3148            False           0           0.0            True            57   \n",
            "3149            False           0           0.0            True            51   \n",
            "\n",
            "      holding_cost  \n",
            "0        4653090.0  \n",
            "1        3333915.0  \n",
            "2        4173390.0  \n",
            "3        8418735.0  \n",
            "4        4964895.0  \n",
            "...            ...  \n",
            "3145     1510110.0  \n",
            "3146           0.0  \n",
            "3147     7790250.0  \n",
            "3148     3415725.0  \n",
            "3149     1833705.0  \n",
            "\n",
            "[3150 rows x 20 columns]\n",
            "         sku_id  lost_units  lost_revenue  excess_units  holding_cost\n",
            "0  DQProduk-001           0           0.0          9723   772364970.0\n",
            "1  DQProduk-002           0           0.0          8030   539831925.0\n",
            "2  DQProduk-003           0           0.0          8977   166173525.0\n",
            "3  DQProduk-004           0           0.0          9268   589966830.0\n",
            "4  DQProduk-005           0           0.0          9756   508770720.0\n"
          ]
        }
      ]
    },
    {
      "cell_type": "code",
      "source": [
        "from sklearn.model_selection import train_test_split\n",
        "from sklearn.ensemble import RandomForestClassifier\n",
        "from sklearn.metrics import classification_report\n",
        "\n",
        "df['unit_margin'] = df['unit_price'] - df['unit_cost']\n",
        "\n",
        "df['refund_rate'] = df['units_refunded'] / df['units_sold'].replace(0, 1) * 100\n",
        "\n",
        "revenue = df['unit_price'] * df['units_sold']\n",
        "refund_loss = df['units_refunded'] * df['unit_price']\n",
        "cost = df['unit_cost'] * df['units_sold']\n",
        "df['roi_value'] = (revenue - cost - refund_loss) / cost.replace(0, 1) * 100\n",
        "\n",
        "# Membuat target biner roi_class (1 jika roi_value ≥ 20, else 0).\n",
        "df['roi_class'] = (df['roi_value'] >= 20).astype(int)\n",
        "\n",
        "# Memilih fitur stock_available, unit_margin, refund_rate, restock_lead_days dan target roi_class\n",
        "feature_cols = ['stock_available', 'unit_margin', 'refund_rate', 'restock_lead_days']\n",
        "X = df[feature_cols]\n",
        "y = df['roi_class']\n",
        "\n",
        "# Membagi data train–test (80 : 20, stratify=y)\n",
        "X_train, X_test, y_train, y_test = train_test_split(X, y, test_size=0.2, random_state=42, stratify=y)\n",
        "\n",
        "# Melatih RandomForestClassifier dengan class_weight='balanced', jumlah estimator = 100, dan random state di 42\n",
        "model = RandomForestClassifier(\n",
        "    n_estimators=100,\n",
        "    max_depth=None,\n",
        "    random_state=42,\n",
        "    class_weight='balanced'\n",
        ")\n",
        "\n",
        "model.fit(X_train, y_train)\n",
        "\n",
        "y_pred = model.predict(X_test)\n",
        "\n",
        "print(classification_report(y_test, y_pred))"
      ],
      "metadata": {
        "colab": {
          "base_uri": "https://localhost:8080/"
        },
        "id": "3InaOzAoTELC",
        "outputId": "9769cf74-12cc-4c85-b49a-369ece64cce0"
      },
      "execution_count": 11,
      "outputs": [
        {
          "output_type": "stream",
          "name": "stdout",
          "text": [
            "              precision    recall  f1-score   support\n",
            "\n",
            "           0       0.64      0.64      0.64       202\n",
            "           1       0.83      0.83      0.83       428\n",
            "\n",
            "    accuracy                           0.77       630\n",
            "   macro avg       0.74      0.74      0.74       630\n",
            "weighted avg       0.77      0.77      0.77       630\n",
            "\n"
          ]
        }
      ]
    },
    {
      "cell_type": "markdown",
      "source": [
        "Kesimpulan :\n",
        "Secara singkat, laporan ini memberitahu kita bahwa modelmu cukup baik (akurasi 77%), dan ia jauh lebih pintar dalam memprediksi produk dengan ROI tinggi (Kelas 1) daripada produk dengan ROI rendah (Kelas 0)."
      ],
      "metadata": {
        "id": "D2WiDlbnIhrn"
      }
    },
    {
      "cell_type": "code",
      "source": [],
      "metadata": {
        "id": "Y80PYSwfIjbE"
      },
      "execution_count": null,
      "outputs": []
    }
  ]
}